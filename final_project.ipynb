{
 "cells": [
  {
   "cell_type": "code",
   "execution_count": null,
   "id": "2f380795",
   "metadata": {},
   "outputs": [],
   "source": [
    "import numpy as np\n",
    "import matplotlib.pyplot as plt"
   ]
  },
  {
   "cell_type": "code",
   "execution_count": null,
   "id": "da603573",
   "metadata": {},
   "outputs": [],
   "source": [
    "# constants\n",
    "L   = 1.0   # 1-D computational domain size\n",
    "ghost_zone = 1"
   ]
  },
  {
   "cell_type": "code",
   "execution_count": null,
   "id": "833ed5c9",
   "metadata": {},
   "outputs": [],
   "source": [
    "def xy(N):\n",
    "    x = np.linspace( 0.0, L, N+2*ghost_zone ) \n",
    "    y = np.linspace( 0.0, L, N+2*ghost_zone )\n",
    "    return x,y"
   ]
  },
  {
   "cell_type": "code",
   "execution_count": null,
   "id": "37862a90",
   "metadata": {},
   "outputs": [],
   "source": [
    "# define a reference analytical solution\n",
    "def u_ref(N):\n",
    "    x = np.linspace( 0.0, L, N+2*ghost_zone ) \n",
    "    y = np.linspace( 0.0, L, N+2*ghost_zone )\n",
    "\n",
    "    ref_func = np.zeros((N+2*ghost_zone,N+2*ghost_zone))\n",
    "    for i in range(N+2*ghost_zone):\n",
    "        for j in range(N+2*ghost_zone):\n",
    "            ref_func[i,j] = np.sin(x[i])*np.sin(y[j])+1\n",
    "    return ref_func\n",
    "\n",
    "#boundary condition\n",
    "def source_func(N):\n",
    "    x = np.linspace( 0.0, L, N+2*ghost_zone ) \n",
    "    y = np.linspace( 0.0, L, N+2*ghost_zone )\n",
    "\n",
    "    rho = np.zeros((N+2*ghost_zone,N+2*ghost_zone))\n",
    "    for i in range(N+2*ghost_zone):\n",
    "        for j in range(N+2*ghost_zone):\n",
    "            rho[i,j] = -2*np.sin(x[i])*np.sin(y[j]) \n",
    "    return rho\n",
    "\n",
    "def initial_bound(N):\n",
    "    \n",
    "    ib = source_func(N)\n",
    "    ur = u_ref(N)\n",
    "    ib[:ghost_zone,:] =  ur[:ghost_zone,:]\n",
    "    ib[-ghost_zone:,:] =  ur[-ghost_zone:,:]\n",
    "    ib[:,:ghost_zone] =  ur[:,:ghost_zone]\n",
    "    ib[:,-ghost_zone:] =  ur[:,-ghost_zone:]\n",
    "\n",
    "    return ib"
   ]
  },
  {
   "cell_type": "code",
   "execution_count": null,
   "id": "a7315a9c",
   "metadata": {},
   "outputs": [],
   "source": [
    "N=3"
   ]
  },
  {
   "cell_type": "code",
   "execution_count": null,
   "id": "8ca4dd81",
   "metadata": {},
   "outputs": [],
   "source": [
    "b = source_func(N)\n",
    "x = np.zeros((N+2*ghost_zone,N+2*ghost_zone))\n",
    "A = np.diagflat( np.ones(N+2*ghost_zone-1)*(-1),       -1 ) + \\\n",
    "    np.diagflat( np.ones(N+2*ghost_zone)*(4), 0 ) + \\\n",
    "    np.diagflat( np.ones(N+2*ghost_zone-1)*(-1),       +1 );\n",
    "\n",
    "r = b - np.matmul(A,x)\n",
    "d = r"
   ]
  },
  {
   "cell_type": "code",
   "execution_count": null,
   "id": "565aad95",
   "metadata": {},
   "outputs": [],
   "source": [
    "for k in range(10):\n",
    "      \n",
    "    alpha = np.matmul(r,r.T)/(d*A*d)\n",
    "    \n",
    "    x = x + alpha*d\n",
    "    \n",
    "    rnew = r - alpha*A*d\n",
    "\n",
    "    beta = np.matmul(rnew.T,rnew)/np.matmul(r.T,r)\n",
    "    \n",
    "    d = r + beta*d\n",
    "    r = rnew"
   ]
  }
 ],
 "metadata": {
  "kernelspec": {
   "display_name": "local-venv-kernel",
   "language": "python",
   "name": "local-venv-kernel"
  },
  "language_info": {
   "codemirror_mode": {
    "name": "ipython",
    "version": 3
   },
   "file_extension": ".py",
   "mimetype": "text/x-python",
   "name": "python",
   "nbconvert_exporter": "python",
   "pygments_lexer": "ipython3",
   "version": "3.9.2"
  }
 },
 "nbformat": 4,
 "nbformat_minor": 5
}
