{
 "cells": [
  {
   "cell_type": "code",
   "execution_count": null,
   "id": "ea483f82",
   "metadata": {},
   "outputs": [
    {
     "ename": "",
     "evalue": "",
     "output_type": "error",
     "traceback": [
      "\u001b[1;31mRunning cells with 'Python 3.11.7' requires the ipykernel package.\n",
      "\u001b[1;31mRun the following command to install 'ipykernel' into the Python environment. \n",
      "\u001b[1;31mCommand: 'c:/msys64/ucrt64/bin/python.exe -m pip install ipykernel -U --user --force-reinstall'"
     ]
    }
   ],
   "source": []
  },
  {
   "cell_type": "code",
   "execution_count": null,
   "id": "2f380795",
   "metadata": {},
   "outputs": [
    {
     "ename": "",
     "evalue": "",
     "output_type": "error",
     "traceback": [
      "\u001b[1;31mRunning cells with 'Python 3.11.7' requires the ipykernel package.\n",
      "\u001b[1;31mRun the following command to install 'ipykernel' into the Python environment. \n",
      "\u001b[1;31mCommand: 'c:/msys64/ucrt64/bin/python.exe -m pip install ipykernel -U --user --force-reinstall'"
     ]
    }
   ],
   "source": [
    "import numpy as np\n",
    "import matplotlib.pyplot as plt"
   ]
  },
  {
   "cell_type": "markdown",
   "id": "da603573",
   "metadata": {},
   "source": [
    "The question at hand: compute the steady-state \"temperature\" (value) in a square region whose boundary temperatures are known.\n",
    "The Poisson eq. is written:\n",
    "\n",
    "$$\\frac{\\partial^2{t(x,y)}}{\\partial{x^2}}+\\frac{\\partial^2{t(x,y)}}{\\partial{y^2}}=b(x,y)$$"
   ]
  },
  {
   "cell_type": "code",
   "execution_count": null,
   "id": "833ed5c9",
   "metadata": {},
   "outputs": [
    {
     "ename": "",
     "evalue": "",
     "output_type": "error",
     "traceback": [
      "\u001b[1;31mRunning cells with 'Python 3.11.7' requires the ipykernel package.\n",
      "\u001b[1;31mRun the following command to install 'ipykernel' into the Python environment. \n",
      "\u001b[1;31mCommand: 'c:/msys64/ucrt64/bin/python.exe -m pip install ipykernel -U --user --force-reinstall'"
     ]
    }
   ],
   "source": [
    "def xy(N):\n",
    "    x = np.linspace( 0.0, L, N+2*ghost_zone ) \n",
    "    y = np.linspace( 0.0, L, N+2*ghost_zone )\n",
    "    return x,y"
   ]
  },
  {
   "cell_type": "code",
   "execution_count": null,
   "id": "37862a90",
   "metadata": {},
   "outputs": [
    {
     "ename": "",
     "evalue": "",
     "output_type": "error",
     "traceback": [
      "\u001b[1;31mRunning cells with 'Python 3.11.7' requires the ipykernel package.\n",
      "\u001b[1;31mRun the following command to install 'ipykernel' into the Python environment. \n",
      "\u001b[1;31mCommand: 'c:/msys64/ucrt64/bin/python.exe -m pip install ipykernel -U --user --force-reinstall'"
     ]
    }
   ],
   "source": [
    "# define a reference analytical solution\n",
    "def u_ref(N):\n",
    "    x = np.linspace( 0.0, L, N+2*ghost_zone ) \n",
    "    y = np.linspace( 0.0, L, N+2*ghost_zone )\n",
    "\n",
    "    ref_func = np.zeros((N+2*ghost_zone,N+2*ghost_zone))\n",
    "    for i in range(N+2*ghost_zone):\n",
    "        for j in range(N+2*ghost_zone):\n",
    "            ref_func[i,j] = np.sin(x[i])*np.sin(y[j])+1\n",
    "    return ref_func\n",
    "\n",
    "#boundary condition\n",
    "def source_func(N):\n",
    "    exwhy = xy(N)\n",
    "    rho = np.zeros((N+2*ghost_zone,N+2*ghost_zone))\n",
    "    for i in range(N+2*ghost_zone):\n",
    "        for j in range(N+2*ghost_zone):\n",
    "            rho[i,j] = (-2*np.sin(exwhy[0][i])*np.sin(exwhy[1][j]))*(L/(N+1))**2 #multiplied by delta_x^2\n",
    "    return rho\n",
    "\n",
    "def initial_bound(N):\n",
    "    if ghost_zone > 1:\n",
    "        raise ValueError(\"Too big\")\n",
    "    ib = source_func(N)\n",
    "    ur = u_ref(N)\n",
    "    ib[ghost_zone,ghost_zone:-ghost_zone] -=  ur[0,ghost_zone:-ghost_zone] #top\n",
    "    ib[-ghost_zone-1,ghost_zone:-ghost_zone] -=  ur[-1,ghost_zone:-ghost_zone]#bottom\n",
    "    ib[ghost_zone:-ghost_zone,ghost_zone] -=  ur[ghost_zone:-ghost_zone,0]#left\n",
    "    ib[ghost_zone:-ghost_zone,-ghost_zone-1] -=  ur[ghost_zone:-ghost_zone,-1] #right\n",
    "    \n",
    "    return ib[ghost_zone:-ghost_zone,ghost_zone:-ghost_zone]"
   ]
  },
  {
   "cell_type": "code",
   "execution_count": null,
   "id": "a7315a9c",
   "metadata": {},
   "outputs": [
    {
     "ename": "",
     "evalue": "",
     "output_type": "error",
     "traceback": [
      "\u001b[1;31mRunning cells with 'Python 3.11.7' requires the ipykernel package.\n",
      "\u001b[1;31mRun the following command to install 'ipykernel' into the Python environment. \n",
      "\u001b[1;31mCommand: 'c:/msys64/ucrt64/bin/python.exe -m pip install ipykernel -U --user --force-reinstall'"
     ]
    }
   ],
   "source": [
    "N= 3\n",
    "dimension = N**2\n",
    "\n",
    "A = np.diagflat(np.ones(dimension)*-4, 0) + np.diagflat(np.ones(dimension-1)*1, 1) \\\n",
    "    + np.diagflat(np.ones(dimension-1)*1, -1) +np.diagflat(np.ones(dimension-N)*1, N) \\\n",
    "    + np.diagflat(np.ones(dimension-N)*1, -N)\n",
    "\n",
    "b = initial_bound(N)[ghost_zone:-ghost_zone,ghost_zone:-ghost_zone].ravel()\n",
    "#Use plt.imshow to see results\n",
    "# print(u_ref(N)[ghost_zone:-ghost_zone,ghost_zone:-ghost_zone].ravel())\n",
    "# print(A)\n",
    "# print(b)\n",
    "# print(u_ref(N))"
   ]
  },
  {
   "cell_type": "code",
   "execution_count": null,
   "id": "c37ec127",
   "metadata": {},
   "outputs": [
    {
     "ename": "",
     "evalue": "",
     "output_type": "error",
     "traceback": [
      "\u001b[1;31mRunning cells with 'Python 3.11.7' requires the ipykernel package.\n",
      "\u001b[1;31mRun the following command to install 'ipykernel' into the Python environment. \n",
      "\u001b[1;31mCommand: 'c:/msys64/ucrt64/bin/python.exe -m pip install ipykernel -U --user --force-reinstall'"
     ]
    }
   ],
   "source": [
    "#------------------------------------\n",
    "#CG Solver\n",
    "#------------------------------------\n",
    "x = np.zeros((N**2, 1))  # first guess is zero vector\n",
    "r = b  # r = b - A*x starts equal to b\n",
    "d = r  # first search direction is r\n",
    "while (np.dot(r.T, r)/N**4 > 10e-8) == True:  # still iterating\n",
    "    alpha = np.dot(r.T, r) / np.dot(d.T, np.dot(A, d))\n",
    "    x = x + alpha * d  # step to next guess\n",
    "    rnew = r - alpha * np.dot(A, d)  # update residual r\n",
    "    beta = np.dot(rnew.T, rnew) / np.dot(r.T, r) #correction\n",
    "    r = rnew\n",
    "    d = r + beta * d  # compute new search direction"
   ]
  }
 ],
 "metadata": {
  "kernelspec": {
   "display_name": "Python 3",
   "language": "python",
   "name": "python3"
  },
  "language_info": {
   "codemirror_mode": {
    "name": "ipython",
    "version": 3
   },
   "file_extension": ".py",
   "mimetype": "text/x-python",
   "name": "python",
   "nbconvert_exporter": "python",
   "pygments_lexer": "ipython3",
   "version": "3.11.7"
  }
 },
 "nbformat": 4,
 "nbformat_minor": 5
}
