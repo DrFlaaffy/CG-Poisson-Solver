{
 "cells": [
  {
   "cell_type": "code",
   "execution_count": null,
   "id": "c7287d6f",
   "metadata": {},
   "outputs": [],
   "source": [
    "import numpy as np\n",
    "import matplotlib.pyplot as plt\n",
    "from mpl_toolkits.axes_grid1 import make_axes_locatable"
   ]
  },
  {
   "cell_type": "markdown",
   "id": "9b17cbf4",
   "metadata": {},
   "source": [
    "The question at hand: compute the steady-state \"temperature\" (value) in a square region whose boundary temperatures are known.\n",
    "The Poisson eq. is written:\n",
    "\n",
    "$$\\frac{\\partial^2{t(x,y)}}{\\partial{x^2}}+\\frac{\\partial^2{t(x,y)}}{\\partial{y^2}}=b(x,y)$$\n",
    "\n",
    "By using the definition of derivatives, I can show that:\n",
    "\n",
    "$$\\frac{\\partial^2{t(x,y)}}{\\partial{x^2}}=\\lim_{h\\to0}\\frac{t(x − h, y) − 2t(x, y) + t(x + h, y)}{h^2}$$\n",
    "And same goes for $y$. That is why I added a $h^2={\\delta_x}^2$ term in the reference solution."
   ]
  },
  {
   "cell_type": "code",
   "execution_count": null,
   "id": "ce32406c",
   "metadata": {},
   "outputs": [],
   "source": [
    "#-------------------------------------------------\n",
    "#Define the boundary conditions (Yu Voon + Owen)\n",
    "#-------------------------------------------------\n",
    "L          = 1.0\n",
    "ghost_zone = 1\n",
    "N          = 3\n",
    "dimension  = N**2\n",
    "\n",
    "def xy(N):\n",
    "    x = np.linspace( 0.0, L, N+2*ghost_zone ) \n",
    "    y = np.linspace( 0.0, L, N+2*ghost_zone )\n",
    "    return x,y\n",
    "\n",
    "# define a reference analytical solution\n",
    "def u_ref(N):\n",
    "    exwhy = xy(N)\n",
    "    ref_func = np.zeros((N+2*ghost_zone,N+2*ghost_zone))\n",
    "    for j in range(N+2*ghost_zone):\n",
    "        for i in range(N+2*ghost_zone):\n",
    "            ref_func[j,i] = np.sin(exwhy[0][i])*np.sin(exwhy[1][j])+1\n",
    "    return ref_func\n",
    "\n",
    "#boundary condition\n",
    "def source_func(N):\n",
    "    exwhy = xy(N)\n",
    "    rho = np.zeros((N+2*ghost_zone,N+2*ghost_zone))\n",
    "    for j in range(N+2*ghost_zone):\n",
    "        for i in range(N+2*ghost_zone):\n",
    "            rho[j,i] = (-2*np.sin(exwhy[0][i])*np.sin(exwhy[1][j]))*(L/(N+1))**2\n",
    "    return rho\n",
    "\n",
    "def initial_bound(N):\n",
    "    if ghost_zone > 1:\n",
    "        raise ValueError(\"Too big\")\n",
    "    ib = source_func(N)\n",
    "    ur = u_ref(N)\n",
    "    ib[ghost_zone,ghost_zone:-ghost_zone] -=  ur[0,ghost_zone:-ghost_zone] #top\n",
    "    ib[-ghost_zone-1,ghost_zone:-ghost_zone] -=  ur[-1,ghost_zone:-ghost_zone]#bottom\n",
    "    ib[ghost_zone:-ghost_zone,ghost_zone] -=  ur[ghost_zone:-ghost_zone,0]#left\n",
    "    ib[ghost_zone:-ghost_zone,-ghost_zone-1] -=  ur[ghost_zone:-ghost_zone,-1] #right\n",
    "    \n",
    "    return ib[ghost_zone:-ghost_zone,ghost_zone:-ghost_zone]"
   ]
  },
  {
   "cell_type": "code",
   "execution_count": null,
   "id": "f5200153",
   "metadata": {},
   "outputs": [],
   "source": [
    "A         = -4.0*np.eye(dimension)\n",
    "\n",
    "for idx_cell in range(dimension):\n",
    "    idx_neighbor_list = []\n",
    "    if (idx_cell%N  != 0 ):\n",
    "        idx_neighbor_list.append(idx_cell-1) \n",
    "    if (idx_cell%N  != (N-1)):\n",
    "        idx_neighbor_list.append(idx_cell+1)\n",
    "    if (idx_cell//N != (N-1)):\n",
    "        idx_neighbor_list.append(idx_cell+N)\n",
    "    if (idx_cell//N != 0    ):\n",
    "        idx_neighbor_list.append(idx_cell-N)\n",
    "    if len(idx_neighbor_list) != 0:\n",
    "        A[idx_cell,idx_neighbor_list ] = 1.0\n",
    "\n",
    "b = initial_bound(N).ravel()\n",
    "\n",
    "print(A)\n",
    "# print(b)\n",
    "# print(u_ref(N))\n",
    "# print(source_func(N))\n",
    "# print(initial_bound(N))"
   ]
  },
  {
   "cell_type": "markdown",
   "id": "af1cbb48",
   "metadata": {},
   "source": [
    "The problem lies with A. By printing out A (which is very sparse, with very many zeroes), we bottleneck ourselves with the size of A. For reference, N = 256 needs 32 GB of RAM without parallelization. We may need to simplify this by not calculating A, but instead using the equation:\n",
    "\n",
    "$$−t(i − k) − t(i − 1) + 4t(i) − t(i + 1) − t(i + k) = 0$$\n",
    "\n",
    "Which can give us the definition A: what A does, essentially; and use that to interact with d, making our code much faster (I think it is currently $O(N^4)$?) I think this has to be done before parallelization. Also note that the main diagonal is -4 due to rearrangement."
   ]
  },
  {
   "cell_type": "code",
   "execution_count": null,
   "id": "2592dbf8",
   "metadata": {},
   "outputs": [],
   "source": [
    "#---------------------------\n",
    "#CG Solver\n",
    "#---------------------------\n",
    "import time\n",
    "x = np.zeros((N**2))  # first guess is zero vector\n",
    "r = b  # r = b - A*x starts equal to b\n",
    "d = r  # first search direction is r\n",
    "start_time = time.time()\n",
    "while (np.dot(r.T, r)/N**4 > 10e-16) == True:  # still iterating\n",
    "    alpha = np.dot(r.T, r) / np.dot(d.T, np.dot(A, d))\n",
    "    x = x + alpha * d  # step to next guess\n",
    "    rnew = r - alpha * np.dot(A, d)  # update residual r\n",
    "    beta = np.dot(rnew.T, rnew) / np.dot(r.T, r) #correction\n",
    "    r = rnew\n",
    "    d = r + beta * d  # compute new search direction\n",
    "end_time = time.time()\n",
    "print(end_time - start_time,' seconds')"
   ]
  },
  {
   "cell_type": "code",
   "execution_count": null,
   "id": "14f1c0a8",
   "metadata": {},
   "outputs": [],
   "source": [
    "fig     = plt.figure(figsize=(9,3), dpi=320)\n",
    "ref_sol = u_ref(N)[ghost_zone:-ghost_zone, ghost_zone:-ghost_zone]\n",
    "\n",
    "ax1     = plt.subplot(131)\n",
    "divider = make_axes_locatable(ax1)\n",
    "cax1    = divider.append_axes('right', size='5%', pad=0.05)\n",
    "im1     = ax1.imshow(x.reshape(N,N))\n",
    "fig.colorbar(im1, cax=cax1, orientation='vertical')\n",
    "ax1.axis(\"off\")\n",
    "ax1.set_title(\"CG Numerical\")\n",
    "\n",
    "ax2     = plt.subplot(132)\n",
    "divider = make_axes_locatable(ax2)\n",
    "cax2    = divider.append_axes('right', size='5%', pad=0.05)\n",
    "im2     = ax2.imshow(ref_sol)\n",
    "fig.colorbar(im2, cax=cax2, orientation='vertical')\n",
    "ax2.axis(\"off\")\n",
    "ax2.set_title(\"Reference Solution\")\n",
    "\n",
    "\n",
    "ax3     = plt.subplot(133)\n",
    "divider = make_axes_locatable(ax3)\n",
    "cax3    = divider.append_axes('right', size='5%', pad=0.05)\n",
    "im3     = ax3.imshow(x.reshape(N,N)-ref_sol)\n",
    "fig.colorbar(im3, cax=cax3, orientation='vertical')\n",
    "ax3.axis(\"off\")\n",
    "ax3.set_title(\"Difference\")"
   ]
  }
 ],
 "metadata": {
  "kernelspec": {
   "display_name": "Python 3",
   "language": "python",
   "name": "python3"
  },
  "language_info": {
   "codemirror_mode": {
    "name": "ipython",
    "version": 3
   },
   "file_extension": ".py",
   "mimetype": "text/x-python",
   "name": "python",
   "nbconvert_exporter": "python",
   "pygments_lexer": "ipython3",
   "version": "3.11.7"
  }
 },
 "nbformat": 4,
 "nbformat_minor": 5
}
